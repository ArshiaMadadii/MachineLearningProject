{
 "cells": [
  {
   "cell_type": "code",
   "execution_count": 414,
   "id": "3a771e1d",
   "metadata": {},
   "outputs": [],
   "source": [
    "from sklearn.datasets import load_breast_cancer\n",
    "breast_cancer = load_breast_cancer()        "
   ]
  },
  {
   "cell_type": "code",
   "execution_count": 415,
   "id": "7f522a88",
   "metadata": {},
   "outputs": [
    {
     "name": "stdout",
     "output_type": "stream",
     "text": [
      ".. _breast_cancer_dataset:\n",
      "\n",
      "Breast cancer wisconsin (diagnostic) dataset\n",
      "--------------------------------------------\n",
      "\n",
      "**Data Set Characteristics:**\n",
      "\n",
      ":Number of Instances: 569\n",
      "\n",
      ":Number of Attributes: 30 numeric, predictive attributes and the class\n",
      "\n",
      ":Attribute Information:\n",
      "    - radius (mean of distances from center to points on the perimeter)\n",
      "    - texture (standard deviation of gray-scale values)\n",
      "    - perimeter\n",
      "    - area\n",
      "    - smoothness (local variation in radius lengths)\n",
      "    - compactness (perimeter^2 / area - 1.0)\n",
      "    - concavity (severity of concave portions of the contour)\n",
      "    - concave points (number of concave portions of the contour)\n",
      "    - symmetry\n",
      "    - fractal dimension (\"coastline approximation\" - 1)\n",
      "\n",
      "    The mean, standard error, and \"worst\" or largest (mean of the three\n",
      "    worst/largest values) of these features were computed for each image,\n",
      "    resulting in 30 features.  For instance, field 0 is Mean Radius, field\n",
      "    10 is Radius SE, field 20 is Worst Radius.\n",
      "\n",
      "    - class:\n",
      "            - WDBC-Malignant\n",
      "            - WDBC-Benign\n",
      "\n",
      ":Summary Statistics:\n",
      "\n",
      "===================================== ====== ======\n",
      "                                        Min    Max\n",
      "===================================== ====== ======\n",
      "radius (mean):                        6.981  28.11\n",
      "texture (mean):                       9.71   39.28\n",
      "perimeter (mean):                     43.79  188.5\n",
      "area (mean):                          143.5  2501.0\n",
      "smoothness (mean):                    0.053  0.163\n",
      "compactness (mean):                   0.019  0.345\n",
      "concavity (mean):                     0.0    0.427\n",
      "concave points (mean):                0.0    0.201\n",
      "symmetry (mean):                      0.106  0.304\n",
      "fractal dimension (mean):             0.05   0.097\n",
      "radius (standard error):              0.112  2.873\n",
      "texture (standard error):             0.36   4.885\n",
      "perimeter (standard error):           0.757  21.98\n",
      "area (standard error):                6.802  542.2\n",
      "smoothness (standard error):          0.002  0.031\n",
      "compactness (standard error):         0.002  0.135\n",
      "concavity (standard error):           0.0    0.396\n",
      "concave points (standard error):      0.0    0.053\n",
      "symmetry (standard error):            0.008  0.079\n",
      "fractal dimension (standard error):   0.001  0.03\n",
      "radius (worst):                       7.93   36.04\n",
      "texture (worst):                      12.02  49.54\n",
      "perimeter (worst):                    50.41  251.2\n",
      "area (worst):                         185.2  4254.0\n",
      "smoothness (worst):                   0.071  0.223\n",
      "compactness (worst):                  0.027  1.058\n",
      "concavity (worst):                    0.0    1.252\n",
      "concave points (worst):               0.0    0.291\n",
      "symmetry (worst):                     0.156  0.664\n",
      "fractal dimension (worst):            0.055  0.208\n",
      "===================================== ====== ======\n",
      "\n",
      ":Missing Attribute Values: None\n",
      "\n",
      ":Class Distribution: 212 - Malignant, 357 - Benign\n",
      "\n",
      ":Creator:  Dr. William H. Wolberg, W. Nick Street, Olvi L. Mangasarian\n",
      "\n",
      ":Donor: Nick Street\n",
      "\n",
      ":Date: November, 1995\n",
      "\n",
      "This is a copy of UCI ML Breast Cancer Wisconsin (Diagnostic) datasets.\n",
      "https://goo.gl/U2Uwz2\n",
      "\n",
      "Features are computed from a digitized image of a fine needle\n",
      "aspirate (FNA) of a breast mass.  They describe\n",
      "characteristics of the cell nuclei present in the image.\n",
      "\n",
      "Separating plane described above was obtained using\n",
      "Multisurface Method-Tree (MSM-T) [K. P. Bennett, \"Decision Tree\n",
      "Construction Via Linear Programming.\" Proceedings of the 4th\n",
      "Midwest Artificial Intelligence and Cognitive Science Society,\n",
      "pp. 97-101, 1992], a classification method which uses linear\n",
      "programming to construct a decision tree.  Relevant features\n",
      "were selected using an exhaustive search in the space of 1-4\n",
      "features and 1-3 separating planes.\n",
      "\n",
      "The actual linear program used to obtain the separating plane\n",
      "in the 3-dimensional space is that described in:\n",
      "[K. P. Bennett and O. L. Mangasarian: \"Robust Linear\n",
      "Programming Discrimination of Two Linearly Inseparable Sets\",\n",
      "Optimization Methods and Software 1, 1992, 23-34].\n",
      "\n",
      "This database is also available through the UW CS ftp server:\n",
      "\n",
      "ftp ftp.cs.wisc.edu\n",
      "cd math-prog/cpo-dataset/machine-learn/WDBC/\n",
      "\n",
      ".. dropdown:: References\n",
      "\n",
      "  - W.N. Street, W.H. Wolberg and O.L. Mangasarian. Nuclear feature extraction\n",
      "    for breast tumor diagnosis. IS&T/SPIE 1993 International Symposium on\n",
      "    Electronic Imaging: Science and Technology, volume 1905, pages 861-870,\n",
      "    San Jose, CA, 1993.\n",
      "  - O.L. Mangasarian, W.N. Street and W.H. Wolberg. Breast cancer diagnosis and\n",
      "    prognosis via linear programming. Operations Research, 43(4), pages 570-577,\n",
      "    July-August 1995.\n",
      "  - W.H. Wolberg, W.N. Street, and O.L. Mangasarian. Machine learning techniques\n",
      "    to diagnose breast cancer from fine-needle aspirates. Cancer Letters 77 (1994)\n",
      "    163-171.\n",
      "\n"
     ]
    }
   ],
   "source": [
    "print(breast_cancer.DESCR)  #for show datasets"
   ]
  },
  {
   "cell_type": "markdown",
   "id": "ebfc9832",
   "metadata": {},
   "source": [
    "# Dataset Info"
   ]
  },
  {
   "cell_type": "code",
   "execution_count": 416,
   "id": "1b673019",
   "metadata": {},
   "outputs": [
    {
     "data": {
      "text/plain": [
       "np.int64(1)"
      ]
     },
     "execution_count": 416,
     "metadata": {},
     "output_type": "execute_result"
    }
   ],
   "source": [
    "breast_cancer.target[500] #check sample - 0 = - and 1 = +"
   ]
  },
  {
   "cell_type": "code",
   "execution_count": 417,
   "id": "1528b602",
   "metadata": {},
   "outputs": [
    {
     "data": {
      "text/plain": [
       "(569,)"
      ]
     },
     "execution_count": 417,
     "metadata": {},
     "output_type": "execute_result"
    }
   ],
   "source": [
    "breast_cancer.target.shape #show  Instances"
   ]
  },
  {
   "cell_type": "code",
   "execution_count": 418,
   "id": "65138162",
   "metadata": {},
   "outputs": [
    {
     "data": {
      "text/plain": [
       "array([1.504e+01, 1.674e+01, 9.873e+01, 6.894e+02, 9.883e-02, 1.364e-01,\n",
       "       7.721e-02, 6.142e-02, 1.668e-01, 6.869e-02, 3.720e-01, 8.423e-01,\n",
       "       2.304e+00, 3.484e+01, 4.123e-03, 1.819e-02, 1.996e-02, 1.004e-02,\n",
       "       1.055e-02, 3.237e-03, 1.676e+01, 2.043e+01, 1.097e+02, 8.569e+02,\n",
       "       1.135e-01, 2.176e-01, 1.856e-01, 1.018e-01, 2.177e-01, 8.549e-02])"
      ]
     },
     "execution_count": 418,
     "metadata": {},
     "output_type": "execute_result"
    }
   ],
   "source": [
    "breast_cancer.data[500]  #show data people"
   ]
  },
  {
   "cell_type": "code",
   "execution_count": 419,
   "id": "9a0388de",
   "metadata": {},
   "outputs": [
    {
     "data": {
      "text/plain": [
       "(569, 30)"
      ]
     },
     "execution_count": 419,
     "metadata": {},
     "output_type": "execute_result"
    }
   ],
   "source": [
    "breast_cancer.data.shape # Instances & Feature "
   ]
  },
  {
   "cell_type": "markdown",
   "id": "f81fca1a",
   "metadata": {},
   "source": [
    "# Preprocessing"
   ]
  },
  {
   "cell_type": "code",
   "execution_count": 420,
   "id": "af384313",
   "metadata": {},
   "outputs": [
    {
     "name": "stdout",
     "output_type": "stream",
     "text": [
      "Feature : train (455, 30) | test (114, 30)\n",
      "Label   : train (455,)    | test (114,)\n"
     ]
    }
   ],
   "source": [
    "from sklearn.model_selection import train_test_split\n",
    "                                                  #Split dataset into 80% training and 20% testing sets\n",
    "Feature_train,Feature_test,Label_train,Label_test = train_test_split(breast_cancer.data,breast_cancer.target,test_size=0.2)\n",
    "print(f\"Feature : train {Feature_train.shape} | test {Feature_test.shape}\")\n",
    "print(f\"Label   : train {Label_train.shape}    | test {Label_test.shape}\")"
   ]
  },
  {
   "cell_type": "code",
   "execution_count": 421,
   "id": "f2b89b67",
   "metadata": {},
   "outputs": [
    {
     "data": {
      "text/plain": [
       "array([1.385e+01, 1.518e+01, 8.899e+01, 5.874e+02, 9.516e-02, 7.688e-02,\n",
       "       4.479e-02, 3.711e-02, 2.110e-01, 5.853e-02, 2.479e-01, 9.195e-01,\n",
       "       1.830e+00, 1.941e+01, 4.235e-03, 1.541e-02, 1.457e-02, 1.043e-02,\n",
       "       1.528e-02, 1.593e-03, 1.498e+01, 2.174e+01, 9.837e+01, 6.700e+02,\n",
       "       1.185e-01, 1.724e-01, 1.456e-01, 9.993e-02, 2.955e-01, 6.912e-02])"
      ]
     },
     "execution_count": 421,
     "metadata": {},
     "output_type": "execute_result"
    }
   ],
   "source": [
    "Feature_train[0]"
   ]
  },
  {
   "cell_type": "code",
   "execution_count": 422,
   "id": "b2d304ef",
   "metadata": {},
   "outputs": [],
   "source": [
    "from sklearn.preprocessing import MinMaxScaler\n",
    "scaler = MinMaxScaler(feature_range=(0,1)) # Normalizes data to [0, 1] range\n",
    "Feature_train = scaler.fit_transform(Feature_train)\n",
    "Feature_test = scaler.transform(Feature_test)"
   ]
  },
  {
   "cell_type": "code",
   "execution_count": 423,
   "id": "1b696953",
   "metadata": {},
   "outputs": [
    {
     "data": {
      "text/plain": [
       "array([0.32509821, 0.22697095, 0.31234884, 0.18829268, 0.38394872,\n",
       "       0.17636955, 0.10494377, 0.18444334, 0.50347037, 0.18715877,\n",
       "       0.04939345, 0.17016551, 0.05055836, 0.02354884, 0.07588443,\n",
       "       0.13733717, 0.03679293, 0.1975753 , 0.08271023, 0.02225007,\n",
       "       0.25080043, 0.25906183, 0.23885652, 0.11915061, 0.26353024,\n",
       "       0.1348859 , 0.11629393, 0.34340206, 0.31677169, 0.09133889])"
      ]
     },
     "execution_count": 423,
     "metadata": {},
     "output_type": "execute_result"
    }
   ],
   "source": [
    "Feature_train[0]\n",
    "# Normalizes data OK!"
   ]
  },
  {
   "cell_type": "markdown",
   "id": "51f696df",
   "metadata": {},
   "source": [
    "# Classification    \n"
   ]
  },
  {
   "cell_type": "code",
   "execution_count": 424,
   "id": "9e6d033c",
   "metadata": {},
   "outputs": [],
   "source": [
    "from sklearn.metrics import accuracy_score, precision_score, recall_score\n",
    "\n",
    "def calculate_metrics(Label_train, Label_test, Label_pred_train, Label_pred_test):\n",
    "    \"\"\"\n",
    "    Calculate and print evaluation metrics for classification model\n",
    "    \n",
    "    Args:\n",
    "        Label_train: Actual labels of training set\n",
    "        Label_test: Actual labels of test set\n",
    "        Label_pred_train: Predicted labels for training set\n",
    "        Label_pred_test: Predicted labels for test set\n",
    "    \n",
    "    Returns:\n",
    "        Tuple of (train_accuracy, test_accuracy, precision, recall)\n",
    "    \"\"\"\n",
    "    \n",
    "    # Calculate accuracy for both train and test sets\n",
    "    acc_train = accuracy_score(y_true=Label_train, y_pred=Label_pred_train)  # (TP + TN) / Total\n",
    "    acc_test = accuracy_score(y_true=Label_test, y_pred=Label_pred_test)    # (TP + TN) / Total\n",
    "    \n",
    "    # Calculate precision and recall for test set only\n",
    "    precision = precision_score(y_true=Label_test, y_pred=Label_pred_test)  # TP / (TP + FP)\n",
    "    recall = recall_score(y_true=Label_test, y_pred=Label_pred_test)        # TP / (TP + FN)\n",
    "    \n",
    "    # Print formatted results\n",
    "    print(f\"Train Accuracy: {acc_train:.6f}  , Test Accuracy: {acc_test:.6f}\\n\"\n",
    "          f\"Precision:      {precision:.6f}  , Recall:        {recall:.6f}\")\n",
    "    \n",
    "    return acc_train, acc_test, precision, recall"
   ]
  },
  {
   "cell_type": "markdown",
   "id": "770eea81",
   "metadata": {},
   "source": [
    "## 1. naive bayes"
   ]
  },
  {
   "cell_type": "code",
   "execution_count": 425,
   "id": "01b182f4",
   "metadata": {},
   "outputs": [
    {
     "name": "stdout",
     "output_type": "stream",
     "text": [
      " 0.00122 seconds\n"
     ]
    }
   ],
   "source": [
    "from sklearn.naive_bayes import GaussianNB\n",
    "import time\n",
    "start_time_gnb = time.time()\n",
    "gnb = GaussianNB()\n",
    "gnb.fit(Feature_train , Label_train)\n",
    "end_time_gnb = time.time()\n",
    "time_gnb = end_time_gnb - start_time_gnb\n",
    "print(f\" {time_gnb:.5f} seconds\")"
   ]
  },
  {
   "cell_type": "code",
   "execution_count": 426,
   "id": "e906061a",
   "metadata": {},
   "outputs": [
    {
     "name": "stdout",
     "output_type": "stream",
     "text": [
      "Train Accuracy: 0.945055  , Test Accuracy: 0.947368\n",
      "Precision:      0.931507  , Recall:        0.985507\n"
     ]
    }
   ],
   "source": [
    "# Make predictions using trained GaussianNB model\n",
    "Label_pred_train = gnb.predict(Feature_train)\n",
    "Label_pred_test = gnb.predict(Feature_test)\n",
    "\n",
    "# Evaluate model performance metrics\n",
    "acc_train_gnb, acc_test_gnb, precision_gnb, recall_gnb = calculate_metrics(Label_train, Label_test, Label_pred_train, Label_pred_test)"
   ]
  },
  {
   "cell_type": "markdown",
   "id": "1a95ec3d",
   "metadata": {},
   "source": [
    "## 2. KNN"
   ]
  },
  {
   "cell_type": "code",
   "execution_count": 427,
   "id": "63d44684",
   "metadata": {},
   "outputs": [
    {
     "name": "stdout",
     "output_type": "stream",
     "text": [
      " 0.00176 seconds\n"
     ]
    }
   ],
   "source": [
    "from sklearn.neighbors import KNeighborsClassifier\n",
    "\n",
    "start_time_knn = time.time()\n",
    "\n",
    "knn = KNeighborsClassifier(n_neighbors=8, algorithm='kd_tree',leaf_size=28)\n",
    "knn.fit(Feature_train , Label_train)\n",
    "\n",
    "end_time_knn = time.time()\n",
    "time_knn = end_time_knn - start_time_knn\n",
    "print(f\" {time_knn:.5f} seconds\")\n"
   ]
  },
  {
   "cell_type": "code",
   "execution_count": 428,
   "id": "0c6bc47d",
   "metadata": {},
   "outputs": [
    {
     "name": "stdout",
     "output_type": "stream",
     "text": [
      "Train Accuracy: 0.982418  , Test Accuracy: 0.947368\n",
      "Precision:      0.943662  , Recall:        0.971014\n"
     ]
    }
   ],
   "source": [
    "# Make predictions using trained KNN model\n",
    "Label_pred_train = knn.predict(Feature_train)\n",
    "Label_pred_test = knn.predict(Feature_test)\n",
    "\n",
    "# Evaluate model performance metrics\n",
    "acc_train_knn, acc_test_knn, precision_knn, recall_knn = calculate_metrics(Label_train, Label_test, Label_pred_train, Label_pred_test)"
   ]
  },
  {
   "cell_type": "markdown",
   "id": "e9cb9edb",
   "metadata": {},
   "source": [
    "## 3. decision tree"
   ]
  },
  {
   "cell_type": "code",
   "execution_count": 429,
   "id": "be4ef2b5",
   "metadata": {},
   "outputs": [
    {
     "name": "stdout",
     "output_type": "stream",
     "text": [
      " 0.00626 seconds\n"
     ]
    }
   ],
   "source": [
    "from sklearn.tree import DecisionTreeClassifier\n",
    "\n",
    "start_time_dt = time.time()\n",
    "\n",
    "dt = DecisionTreeClassifier(max_depth=256 , min_samples_split=4 , criterion='entropy')\n",
    "dt.fit(Feature_train , Label_train)\n",
    "\n",
    "end_time_dt = time.time()\n",
    "time_dt = end_time_dt - start_time_dt\n",
    "print(f\" {time_dt:.5f} seconds\")\n"
   ]
  },
  {
   "cell_type": "code",
   "execution_count": 430,
   "id": "c6650858",
   "metadata": {},
   "outputs": [
    {
     "name": "stdout",
     "output_type": "stream",
     "text": [
      "Train Accuracy: 0.997802  , Test Accuracy: 0.921053\n",
      "Precision:      0.905405  , Recall:        0.971014\n"
     ]
    }
   ],
   "source": [
    "# Make predictions using trained decision tree model\n",
    "Label_pred_train = dt.predict(Feature_train)\n",
    "Label_pred_test = dt.predict(Feature_test)\n",
    "\n",
    "# Evaluate model performance metrics\n",
    "acc_train_dt, acc_test_dt, precision_dt, recall_dt = calculate_metrics(Label_train, Label_test, Label_pred_train, Label_pred_test)"
   ]
  },
  {
   "cell_type": "markdown",
   "id": "68c3df5c",
   "metadata": {},
   "source": [
    "## 4.random forest"
   ]
  },
  {
   "cell_type": "code",
   "execution_count": 431,
   "id": "a6e83f67",
   "metadata": {},
   "outputs": [
    {
     "name": "stdout",
     "output_type": "stream",
     "text": [
      " 1.19143 seconds\n"
     ]
    }
   ],
   "source": [
    "from sklearn.ensemble import RandomForestClassifier\n",
    "\n",
    "start_time_rf = time.time()\n",
    "\n",
    "rf = RandomForestClassifier(n_estimators=1000 , max_depth=512 , min_samples_split=4)\n",
    "rf.fit(Feature_train , Label_train)\n",
    "\n",
    "end_time_rf = time.time()\n",
    "time_rf = end_time_rf - start_time_rf\n",
    "print(f\" {time_rf:.5f} seconds\")"
   ]
  },
  {
   "cell_type": "code",
   "execution_count": 432,
   "id": "0057d17f",
   "metadata": {},
   "outputs": [
    {
     "name": "stdout",
     "output_type": "stream",
     "text": [
      "Train Accuracy: 1.000000  , Test Accuracy: 0.947368\n",
      "Precision:      0.931507  , Recall:        0.985507\n"
     ]
    }
   ],
   "source": [
    "# Generate predictions using trained Random Forest model\n",
    "Label_pred_train = rf.predict(Feature_train)\n",
    "Label_pred_test = rf.predict(Feature_test)\n",
    "\n",
    "acc_train_rf, acc_test_rf, precision_rf, recall_rf = calculate_metrics(Label_train, Label_test, Label_pred_train, Label_pred_test)"
   ]
  },
  {
   "cell_type": "markdown",
   "id": "9c17d5b5",
   "metadata": {},
   "source": [
    "## 5.SVM"
   ]
  },
  {
   "cell_type": "code",
   "execution_count": 433,
   "id": "5bea5c4b",
   "metadata": {},
   "outputs": [
    {
     "name": "stdout",
     "output_type": "stream",
     "text": [
      " 0.00441 seconds\n"
     ]
    }
   ],
   "source": [
    "from sklearn.svm import SVC\n",
    "\n",
    "start_time_svm = time.time()\n",
    "\n",
    "svm = SVC()\n",
    "svm.fit(Feature_train , Label_train)\n",
    "\n",
    "\n",
    "end_time_svm = time.time()\n",
    "time_svm = end_time_svm - start_time_svm\n",
    "print(f\" {time_svm:.5f} seconds\")\n"
   ]
  },
  {
   "cell_type": "code",
   "execution_count": 434,
   "id": "5b17ca3d",
   "metadata": {},
   "outputs": [
    {
     "name": "stdout",
     "output_type": "stream",
     "text": [
      "Train Accuracy: 0.989011  , Test Accuracy: 0.947368\n",
      "Precision:      0.931507  , Recall:        0.985507\n"
     ]
    }
   ],
   "source": [
    "# Generate predictions using trained SVM model\n",
    "Label_pred_train = svm.predict(Feature_train)\n",
    "Label_pred_test = svm.predict(Feature_test)\n",
    "\n",
    "acc_train_svm, acc_test_svm, precision_svm, recall_svm = calculate_metrics(Label_train, Label_test, Label_pred_train, Label_pred_test)"
   ]
  },
  {
   "cell_type": "markdown",
   "id": "08af67ca",
   "metadata": {},
   "source": [
    "## 6. Logistic regression"
   ]
  },
  {
   "cell_type": "code",
   "execution_count": 435,
   "id": "e007441d",
   "metadata": {},
   "outputs": [
    {
     "name": "stdout",
     "output_type": "stream",
     "text": [
      " 0.00416 seconds\n"
     ]
    }
   ],
   "source": [
    "from sklearn.linear_model import LogisticRegression\n",
    "\n",
    "start_time_lr = time.time()\n",
    "\n",
    "lr = LogisticRegression()\n",
    "lr.fit(Feature_train , Label_train)\n",
    "\n",
    "end_time_lr = time.time()\n",
    "time_lr = end_time_lr - start_time_lr\n",
    "print(f\" {time_lr:.5f} seconds\")"
   ]
  },
  {
   "cell_type": "code",
   "execution_count": 436,
   "id": "82c3b7af",
   "metadata": {},
   "outputs": [
    {
     "name": "stdout",
     "output_type": "stream",
     "text": [
      "Train Accuracy: 0.982418  , Test Accuracy: 0.956140\n",
      "Precision:      0.932432  , Recall:        1.000000\n"
     ]
    }
   ],
   "source": [
    "# Generate predictions using trained Logistic Regression model\n",
    "Label_pred_train = lr.predict(Feature_train)\n",
    "Label_pred_test = lr.predict(Feature_test)\n",
    "\n",
    "acc_train_lr, acc_test_lr, precision_lr, recall_lr = calculate_metrics(Label_train, Label_test, Label_pred_train, Label_pred_test)"
   ]
  },
  {
   "cell_type": "markdown",
   "id": "d2b6081f",
   "metadata": {},
   "source": [
    "## 7.ANN"
   ]
  },
  {
   "cell_type": "code",
   "execution_count": 437,
   "id": "b649f8a4",
   "metadata": {},
   "outputs": [
    {
     "name": "stdout",
     "output_type": "stream",
     "text": [
      " 0.43301 seconds\n"
     ]
    },
    {
     "name": "stderr",
     "output_type": "stream",
     "text": [
      "d:\\GIT\\MachineLearningProject\\Breast Cancer Detection\\venvML\\Lib\\site-packages\\sklearn\\neural_network\\_multilayer_perceptron.py:691: ConvergenceWarning: Stochastic Optimizer: Maximum iterations (200) reached and the optimization hasn't converged yet.\n",
      "  warnings.warn(\n"
     ]
    }
   ],
   "source": [
    "from sklearn.neural_network import MLPClassifier\n",
    "\n",
    "start_time_ANN = time.time()\n",
    "\n",
    "ann = MLPClassifier(hidden_layer_sizes=256,activation='relu',solver='adam',batch_size=64)\n",
    "ann.fit(Feature_train , Label_train)\n",
    "\n",
    "end_time_ANN = time.time()\n",
    "time_ANN = end_time_ANN - start_time_ANN\n",
    "print(f\" {time_ANN:.5f} seconds\")"
   ]
  },
  {
   "cell_type": "code",
   "execution_count": 438,
   "id": "5bb521e7",
   "metadata": {},
   "outputs": [
    {
     "name": "stdout",
     "output_type": "stream",
     "text": [
      "Train Accuracy: 0.995604  , Test Accuracy: 0.938596\n",
      "Precision:      0.907895  , Recall:        1.000000\n"
     ]
    }
   ],
   "source": [
    "# Generate predictions using trained ANN model\n",
    "Label_pred_train = ann.predict(Feature_train)\n",
    "Label_pred_test = ann.predict(Feature_test)\n",
    "\n",
    "acc_train_ann, acc_test_ann, precision_ann, recall_ann = calculate_metrics(Label_train, Label_test, Label_pred_train, Label_pred_test)"
   ]
  },
  {
   "cell_type": "markdown",
   "id": "e76c622a",
   "metadata": {},
   "source": [
    "# Compration"
   ]
  },
  {
   "cell_type": "code",
   "execution_count": 450,
   "id": "e406d8e8",
   "metadata": {},
   "outputs": [
    {
     "data": {
      "image/png": "[encoded data removed]",
      "text/plain": [
       "<Figure size 1600x900 with 1 Axes>"
      ]
     },
     "metadata": {},
     "output_type": "display_data"
    }
   ],
   "source": [
    "import matplotlib.pyplot as plt\n",
    "import numpy as np\n",
    "\n",
    "# Define metrics\n",
    "metrics = {\n",
    "    'Accuracy': [acc_test_gnb, acc_test_knn, acc_test_dt, acc_test_rf, acc_test_svm, acc_test_lr, acc_test_ann],\n",
    "    'Precision': [precision_gnb, precision_knn, precision_dt, precision_rf, precision_svm, precision_lr, precision_ann],\n",
    "    'Recall': [recall_gnb, recall_knn, recall_dt, recall_rf, recall_svm, recall_lr, recall_ann],\n",
    "    'Time': [time_gnb, time_knn, time_dt, time_rf, time_svm, time_lr, time_ANN],\n",
    "}\n",
    "\n",
    "# Model labels\n",
    "models = ['GNB', 'KNN', 'DT', 'RF', 'SVM', 'LR', 'ANN']\n",
    "num_models = len(models)\n",
    "num_metrics = len(metrics)\n",
    "\n",
    "# Settings\n",
    "group_width = 1         # Total width occupied by all bars in one group\n",
    "bar_width = group_width / num_metrics\n",
    "group_spacing = 1.5       # Space between groups (models)\n",
    "\n",
    "# X locations for each model group\n",
    "x_base = np.arange(num_models) * group_spacing\n",
    "\n",
    "# Setup figure\n",
    "fig, ax = plt.subplots(figsize=(16, 9))\n",
    "\n",
    "# Plot each metric with offset\n",
    "for i, (metric_name, values) in enumerate(metrics.items()):\n",
    "    offsets = x_base + (i - num_metrics / 2) * bar_width + bar_width / 2\n",
    "    rects = ax.bar(offsets, values, width=bar_width, label=metric_name)\n",
    "    ax.bar_label(rects, padding=3, fmt='%.4f')\n",
    "\n",
    "# Axis settings\n",
    "ax.set_xticks(x_base)\n",
    "ax.set_xticklabels(models)\n",
    "ax.set_ylabel('Score / Time (s)')\n",
    "ax.set_title('Grouped Metrics by Model with Wide Separation')\n",
    "ax.legend(loc='upper left')\n",
    "ax.grid(axis='y', alpha=0.3)\n",
    "ax.set_ylim(0, max([max(v) for v in metrics.values()]) * 1.2)\n",
    "\n",
    "plt.tight_layout()\n",
    "plt.show()\n"
   ]
  }
 ],
 "metadata": {
  "kernelspec": {
   "display_name": "venvML",
   "language": "python",
   "name": "python3"
  },
  "language_info": {
   "codemirror_mode": {
    "name": "ipython",
    "version": 3
   },
   "file_extension": ".py",
   "mimetype": "text/x-python",
   "name": "python",
   "nbconvert_exporter": "python",
   "pygments_lexer": "ipython3",
   "version": "3.13.3"
  }
 },
 "nbformat": 4,
 "nbformat_minor": 5
}
