{
 "cells": [
  {
   "cell_type": "code",
   "execution_count": 22,
   "id": "be1c6f30",
   "metadata": {},
   "outputs": [
    {
     "name": "stdout",
     "output_type": "stream",
     "text": [
      ".. _digits_dataset:\n",
      "\n",
      "Optical recognition of handwritten digits dataset\n",
      "--------------------------------------------------\n",
      "\n",
      "**Data Set Characteristics:**\n",
      "\n",
      ":Number of Instances: 1797\n",
      ":Number of Attributes: 64\n",
      ":Attribute Information: 8x8 image of integer pixels in the range 0..16.\n",
      ":Missing Attribute Values: None\n",
      ":Creator: E. Alpaydin (alpaydin '@' boun.edu.tr)\n",
      ":Date: July; 1998\n",
      "\n",
      "This is a copy of the test set of the UCI ML hand-written digits datasets\n",
      "https://archive.ics.uci.edu/ml/datasets/Optical+Recognition+of+Handwritten+Digits\n",
      "\n",
      "The data set contains images of hand-written digits: 10 classes where\n",
      "each class refers to a digit.\n",
      "\n",
      "Preprocessing programs made available by NIST were used to extract\n",
      "normalized bitmaps of handwritten digits from a preprinted form. From a\n",
      "total of 43 people, 30 contributed to the training set and different 13\n",
      "to the test set. 32x32 bitmaps are divided into nonoverlapping blocks of\n",
      "4x4 and the number of on pixels are counted in each block. This generates\n",
      "an input matrix of 8x8 where each element is an integer in the range\n",
      "0..16. This reduces dimensionality and gives invariance to small\n",
      "distortions.\n",
      "\n",
      "For info on NIST preprocessing routines, see M. D. Garris, J. L. Blue, G.\n",
      "T. Candela, D. L. Dimmick, J. Geist, P. J. Grother, S. A. Janet, and C.\n",
      "L. Wilson, NIST Form-Based Handprint Recognition System, NISTIR 5469,\n",
      "1994.\n",
      "\n",
      ".. dropdown:: References\n",
      "\n",
      "  - C. Kaynak (1995) Methods of Combining Multiple Classifiers and Their\n",
      "    Applications to Handwritten Digit Recognition, MSc Thesis, Institute of\n",
      "    Graduate Studies in Science and Engineering, Bogazici University.\n",
      "  - E. Alpaydin, C. Kaynak (1998) Cascading Classifiers, Kybernetika.\n",
      "  - Ken Tang and Ponnuthurai N. Suganthan and Xi Yao and A. Kai Qin.\n",
      "    Linear dimensionalityreduction using relevance weighted LDA. School of\n",
      "    Electrical and Electronic Engineering Nanyang Technological University.\n",
      "    2005.\n",
      "  - Claudio Gentile. A New Approximate Maximal Margin Classification\n",
      "    Algorithm. NIPS. 2000.\n",
      "\n"
     ]
    }
   ],
   "source": [
    "from sklearn.datasets import load_digits\n",
    "digits = load_digits()\n",
    "print(digits.DESCR)"
   ]
  },
  {
   "cell_type": "code",
   "execution_count": 23,
   "id": "a125c4bc",
   "metadata": {},
   "outputs": [
    {
     "data": {
      "text/plain": [
       "(1797, 64)"
      ]
     },
     "execution_count": 23,
     "metadata": {},
     "output_type": "execute_result"
    }
   ],
   "source": [
    "digits.data.shape #Instances , Attributes"
   ]
  },
  {
   "cell_type": "code",
   "execution_count": 24,
   "id": "bec4815b",
   "metadata": {},
   "outputs": [
    {
     "name": "stdout",
     "output_type": "stream",
     "text": [
      "7\n"
     ]
    },
    {
     "data": {
      "image/png": "[encoded data removed]",
      "text/plain": [
       "<Figure size 640x480 with 1 Axes>"
      ]
     },
     "metadata": {},
     "output_type": "display_data"
    }
   ],
   "source": [
    "import matplotlib.pyplot as plt\n",
    "numberInstances = 52\n",
    "imageInstances = digits.images[numberInstances]\n",
    "targetInstances = digits.target[numberInstances]\n",
    "print(targetInstances)\n",
    "plt.gray()\n",
    "plt.imshow(imageInstances)\n",
    "plt.show()"
   ]
  },
  {
   "cell_type": "markdown",
   "id": "11f108e4",
   "metadata": {},
   "source": [
    "## Preprocess"
   ]
  },
  {
   "cell_type": "code",
   "execution_count": 25,
   "id": "580d87a6",
   "metadata": {},
   "outputs": [],
   "source": [
    "from sklearn.model_selection import train_test_split\n",
    "Feature_train,Feature_test,Label_train,Label_test = train_test_split(digits.data , digits.target , test_size=0.3)"
   ]
  },
  {
   "cell_type": "code",
   "execution_count": 26,
   "id": "90710f6b",
   "metadata": {},
   "outputs": [
    {
     "name": "stdout",
     "output_type": "stream",
     "text": [
      "[ 0.  0.  0.  5. 11.  1.  0.  0.  0.  0.  0. 14. 14.  2.  0.  0.  0.  0.\n",
      "  5. 16.  5.  0.  0.  0.  0.  0.  8. 15.  2.  0.  0.  0.  0.  0. 10. 13.\n",
      "  0.  0.  0.  0.  0.  0. 14. 16. 16.  8.  0.  0.  0.  0.  6. 16.  9. 15.\n",
      "  6.  0.  0.  0.  0.  6. 14. 16.  8.  0.]\n"
     ]
    }
   ],
   "source": [
    "print(Feature_train[0])"
   ]
  },
  {
   "cell_type": "code",
   "execution_count": null,
   "id": "12e4478c",
   "metadata": {},
   "outputs": [],
   "source": [
    "from sklearn.preprocessing import MinMaxScaler\n",
    "\n",
    "# Normalize features to [0, 1] range using MinMaxScaler\n",
    "scaler = MinMaxScaler(feature_range=(0 , 1))\n",
    "Feature_train = scaler.fit_transform(Feature_train)\n",
    "Feature_test = scaler.transform(Feature_test)"
   ]
  },
  {
   "cell_type": "code",
   "execution_count": 28,
   "id": "aa61c486",
   "metadata": {},
   "outputs": [
    {
     "name": "stdout",
     "output_type": "stream",
     "text": [
      "[0.     0.     0.     0.3125 0.6875 0.0625 0.     0.     0.     0.\n",
      " 0.     0.875  0.875  0.125  0.     0.     0.     0.     0.3125 1.\n",
      " 0.3125 0.     0.     0.     0.     0.     0.5    0.9375 0.125  0.\n",
      " 0.     0.     0.     0.     0.625  0.8125 0.     0.     0.     0.\n",
      " 0.     0.     0.875  1.     1.     0.5    0.     0.     0.     0.\n",
      " 0.375  1.     0.5625 0.9375 0.375  0.     0.     0.     0.     0.375\n",
      " 0.875  1.     0.5    0.    ]\n"
     ]
    }
   ],
   "source": [
    "print(Feature_train[0])"
   ]
  }
 ],
 "metadata": {
  "kernelspec": {
   "display_name": "venvML",
   "language": "python",
   "name": "python3"
  },
  "language_info": {
   "codemirror_mode": {
    "name": "ipython",
    "version": 3
   },
   "file_extension": ".py",
   "mimetype": "text/x-python",
   "name": "python",
   "nbconvert_exporter": "python",
   "pygments_lexer": "ipython3",
   "version": "3.13.3"
  }
 },
 "nbformat": 4,
 "nbformat_minor": 5
}
